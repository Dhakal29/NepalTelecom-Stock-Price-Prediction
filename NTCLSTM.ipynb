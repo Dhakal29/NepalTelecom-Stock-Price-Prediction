{
  "nbformat": 4,
  "nbformat_minor": 0,
  "metadata": {
    "colab": {
      "name": "NTCLSTM.ipynb",
      "provenance": [],
      "collapsed_sections": []
    },
    "kernelspec": {
      "display_name": "Python 3",
      "language": "python",
      "name": "python3"
    },
    "language_info": {
      "codemirror_mode": {
        "name": "ipython",
        "version": 3
      },
      "file_extension": ".py",
      "mimetype": "text/x-python",
      "name": "python",
      "nbconvert_exporter": "python",
      "pygments_lexer": "ipython3",
      "version": "3.7.6"
    }
  },
  "cells": [
    {
      "cell_type": "code",
      "metadata": {
        "colab_type": "code",
        "id": "vP4mtUF3OMkt",
        "colab": {}
      },
      "source": [
        "import numpy as np\n",
        "import pandas as pd\n",
        "import researchpy as rp\n",
        "import seaborn as sns\n",
        "from sklearn.datasets import make_blobs \n",
        "import matplotlib.pyplot as plt\n",
        "from scipy import stats\n",
        "%matplotlib inline\n",
        "import warnings\n",
        "warnings.filterwarnings(\"ignore\")"
      ],
      "execution_count": 0,
      "outputs": []
    },
    {
      "cell_type": "code",
      "metadata": {
        "id": "O47hEkpnAozL",
        "colab_type": "code",
        "colab": {}
      },
      "source": [
        "from sklearn import preprocessing\n",
        "import math"
      ],
      "execution_count": 0,
      "outputs": []
    },
    {
      "cell_type": "code",
      "metadata": {
        "id": "IRMitm-3RfL-",
        "colab_type": "code",
        "colab": {}
      },
      "source": [
        "#fixing random seed for reproducibility\n",
        "np.random.seed(7)"
      ],
      "execution_count": 0,
      "outputs": []
    },
    {
      "cell_type": "code",
      "metadata": {
        "colab_type": "code",
        "id": "c5kUgioqO1Bi",
        "colab": {}
      },
      "source": [
        "ntc = pd.read_csv('ntcprice.csv')"
      ],
      "execution_count": 0,
      "outputs": []
    },
    {
      "cell_type": "code",
      "metadata": {
        "colab_type": "code",
        "id": "WmWsSN9RPvvY",
        "outputId": "1282b614-aa43-416d-8606-3a0277c559d4",
        "colab": {
          "base_uri": "https://localhost:8080/",
          "height": 34
        }
      },
      "source": [
        "print(ntc.shape)"
      ],
      "execution_count": 0,
      "outputs": [
        {
          "output_type": "stream",
          "text": [
            "(2200, 11)\n"
          ],
          "name": "stdout"
        }
      ]
    },
    {
      "cell_type": "code",
      "metadata": {
        "id": "gomlISVHAo0u",
        "colab_type": "code",
        "colab": {}
      },
      "source": [
        "#sorting values according to date in pandas\n",
        "ntc=ntc.sort_values('Date',axis=0,ascending=True,inplace=False,kind='quicksort',na_position='last')"
      ],
      "execution_count": 0,
      "outputs": []
    },
    {
      "cell_type": "markdown",
      "metadata": {
        "colab_type": "text",
        "id": "JitvllYxS0GR"
      },
      "source": [
        "Deleting SN columns"
      ]
    },
    {
      "cell_type": "code",
      "metadata": {
        "colab_type": "code",
        "id": "icUJ0Ee2Seg2",
        "colab": {}
      },
      "source": [
        "del ntc['SN']"
      ],
      "execution_count": 0,
      "outputs": []
    },
    {
      "cell_type": "code",
      "metadata": {
        "id": "AgtQyviuAo1S",
        "colab_type": "code",
        "outputId": "54a8d228-fd78-495c-8385-402ac2071e45",
        "colab": {
          "base_uri": "https://localhost:8080/",
          "height": 224
        }
      },
      "source": [
        "ntc.head()"
      ],
      "execution_count": 0,
      "outputs": [
        {
          "output_type": "execute_result",
          "data": {
            "text/html": [
              "<div>\n",
              "<style scoped>\n",
              "    .dataframe tbody tr th:only-of-type {\n",
              "        vertical-align: middle;\n",
              "    }\n",
              "\n",
              "    .dataframe tbody tr th {\n",
              "        vertical-align: top;\n",
              "    }\n",
              "\n",
              "    .dataframe thead th {\n",
              "        text-align: right;\n",
              "    }\n",
              "</style>\n",
              "<table border=\"1\" class=\"dataframe\">\n",
              "  <thead>\n",
              "    <tr style=\"text-align: right;\">\n",
              "      <th></th>\n",
              "      <th>Date</th>\n",
              "      <th>No. of Transaction</th>\n",
              "      <th>Max Price</th>\n",
              "      <th>Min Price</th>\n",
              "      <th>Closing Price</th>\n",
              "      <th>Traded Shares</th>\n",
              "      <th>Total Amount</th>\n",
              "      <th>Prev. Closing</th>\n",
              "      <th>Difference(Rs)</th>\n",
              "      <th>% Change</th>\n",
              "    </tr>\n",
              "  </thead>\n",
              "  <tbody>\n",
              "    <tr>\n",
              "      <th>2199</th>\n",
              "      <td>2010-04-15</td>\n",
              "      <td>13</td>\n",
              "      <td>455.0</td>\n",
              "      <td>422.0</td>\n",
              "      <td>455.0</td>\n",
              "      <td>3300</td>\n",
              "      <td>1464600</td>\n",
              "      <td>414.0</td>\n",
              "      <td>41.0</td>\n",
              "      <td>9.90</td>\n",
              "    </tr>\n",
              "    <tr>\n",
              "      <th>2198</th>\n",
              "      <td>2010-04-15</td>\n",
              "      <td>13</td>\n",
              "      <td>455.0</td>\n",
              "      <td>422.0</td>\n",
              "      <td>455.0</td>\n",
              "      <td>3300</td>\n",
              "      <td>1464600</td>\n",
              "      <td>414.0</td>\n",
              "      <td>41.0</td>\n",
              "      <td>9.90</td>\n",
              "    </tr>\n",
              "    <tr>\n",
              "      <th>2197</th>\n",
              "      <td>2010-04-15</td>\n",
              "      <td>13</td>\n",
              "      <td>455.0</td>\n",
              "      <td>422.0</td>\n",
              "      <td>455.0</td>\n",
              "      <td>3300</td>\n",
              "      <td>1464600</td>\n",
              "      <td>414.0</td>\n",
              "      <td>41.0</td>\n",
              "      <td>9.90</td>\n",
              "    </tr>\n",
              "    <tr>\n",
              "      <th>2196</th>\n",
              "      <td>2010-04-19</td>\n",
              "      <td>3</td>\n",
              "      <td>445.0</td>\n",
              "      <td>441.0</td>\n",
              "      <td>441.0</td>\n",
              "      <td>400</td>\n",
              "      <td>177500</td>\n",
              "      <td>442.0</td>\n",
              "      <td>-1.0</td>\n",
              "      <td>-0.23</td>\n",
              "    </tr>\n",
              "    <tr>\n",
              "      <th>2195</th>\n",
              "      <td>2010-04-20</td>\n",
              "      <td>7</td>\n",
              "      <td>445.0</td>\n",
              "      <td>440.0</td>\n",
              "      <td>444.0</td>\n",
              "      <td>3870</td>\n",
              "      <td>1708480</td>\n",
              "      <td>441.0</td>\n",
              "      <td>3.0</td>\n",
              "      <td>0.68</td>\n",
              "    </tr>\n",
              "  </tbody>\n",
              "</table>\n",
              "</div>"
            ],
            "text/plain": [
              "            Date  No. of Transaction  ...  Difference(Rs)  % Change\n",
              "2199  2010-04-15                  13  ...            41.0      9.90\n",
              "2198  2010-04-15                  13  ...            41.0      9.90\n",
              "2197  2010-04-15                  13  ...            41.0      9.90\n",
              "2196  2010-04-19                   3  ...            -1.0     -0.23\n",
              "2195  2010-04-20                   7  ...             3.0      0.68\n",
              "\n",
              "[5 rows x 10 columns]"
            ]
          },
          "metadata": {
            "tags": []
          },
          "execution_count": 78
        }
      ]
    },
    {
      "cell_type": "code",
      "metadata": {
        "colab_type": "code",
        "id": "oEVczGVTYxg0",
        "outputId": "32724680-dbee-4c56-c1f4-c4736ca1026b",
        "colab": {
          "base_uri": "https://localhost:8080/",
          "height": 173
        }
      },
      "source": [
        "ntc['Closing Price'].describe()"
      ],
      "execution_count": 0,
      "outputs": [
        {
          "output_type": "execute_result",
          "data": {
            "text/plain": [
              "count    2200.000000\n",
              "mean      615.004782\n",
              "std       114.911962\n",
              "min         0.000000\n",
              "25%       534.000000\n",
              "50%       647.000000\n",
              "75%       689.000000\n",
              "max       940.000000\n",
              "Name: Closing Price, dtype: float64"
            ]
          },
          "metadata": {
            "tags": []
          },
          "execution_count": 79
        }
      ]
    },
    {
      "cell_type": "code",
      "metadata": {
        "colab_type": "code",
        "id": "5vISq1oDb0ec",
        "colab": {}
      },
      "source": [
        "ntc['Closing Price'].replace(0,(ntc['Max Price']+ntc['Min Price'])/2,inplace=True)"
      ],
      "execution_count": 0,
      "outputs": []
    },
    {
      "cell_type": "code",
      "metadata": {
        "colab_type": "code",
        "id": "zAQBb6diT8x2",
        "outputId": "78ae93ae-b78f-44bd-bc28-4a28d23e699b",
        "colab": {
          "base_uri": "https://localhost:8080/",
          "height": 472
        }
      },
      "source": [
        "#setting index as date\n",
        "ntc['Date'] = pd.to_datetime(ntc.Date,format='%Y-%m-%d')\n",
        "ntc.index=ntc['Date']\n",
        "plt.figure(figsize=(16,8))\n",
        "plt.plot(ntc['Closing Price'],label='Close Price History')"
      ],
      "execution_count": 0,
      "outputs": [
        {
          "output_type": "execute_result",
          "data": {
            "text/plain": [
              "[<matplotlib.lines.Line2D at 0x7f854c27fe48>]"
            ]
          },
          "metadata": {
            "tags": []
          },
          "execution_count": 81
        },
        {
          "output_type": "display_data",
          "data": {
            "image/png": "[encoded data removed]",
            "text/plain": [
              "<Figure size 1152x576 with 1 Axes>"
            ]
          },
          "metadata": {
            "tags": [],
            "needs_background": "light"
          }
        }
      ]
    },
    {
      "cell_type": "code",
      "metadata": {
        "colab_type": "code",
        "id": "dRXhJNEWLdPJ",
        "outputId": "276e0d9a-e3a3-4cd6-f169-0b72c2b9cf4c",
        "colab": {
          "base_uri": "https://localhost:8080/",
          "height": 321
        }
      },
      "source": [
        "ntc.groupby('Closing Price')['Prev. Closing'].mean().plot.bar()"
      ],
      "execution_count": 0,
      "outputs": [
        {
          "output_type": "execute_result",
          "data": {
            "text/plain": [
              "<matplotlib.axes._subplots.AxesSubplot at 0x7f854c1bcef0>"
            ]
          },
          "metadata": {
            "tags": []
          },
          "execution_count": 82
        },
        {
          "output_type": "display_data",
          "data": {
            "image/png": "[encoded data removed]",
            "text/plain": [
              "<Figure size 432x288 with 1 Axes>"
            ]
          },
          "metadata": {
            "tags": [],
            "needs_background": "light"
          }
        }
      ]
    },
    {
      "cell_type": "code",
      "metadata": {
        "colab_type": "code",
        "id": "li8rRuwe2q85",
        "colab": {}
      },
      "source": [
        "#selecting only the columns that we are going to predict\n",
        "data_to_use = ntc.filter(['Closing Price'])\n",
        "#converting to numpy arrays\n",
        "dataset = data_to_use.values"
      ],
      "execution_count": 0,
      "outputs": []
    },
    {
      "cell_type": "code",
      "metadata": {
        "id": "2zSpBNuUawiy",
        "colab_type": "code",
        "colab": {}
      },
      "source": [
        "#data preprocessing\n",
        "from sklearn.preprocessing import MinMaxScaler\n",
        "scaler = MinMaxScaler(feature_range=(0,1))\n",
        "dataset_scaled = scaler.fit_transform(dataset)"
      ],
      "execution_count": 0,
      "outputs": []
    },
    {
      "cell_type": "code",
      "metadata": {
        "id": "Xb73nwsUAo2t",
        "colab_type": "code",
        "outputId": "71e46e06-6ef4-4078-c9ec-06f24489d235",
        "colab": {
          "base_uri": "https://localhost:8080/",
          "height": 34
        }
      },
      "source": [
        "#walk forward train test\n",
        "X = np.array(dataset)\n",
        "train, test = X[0:-200],X[-200:]\n",
        "print('train=%d, test=%d' % (len(train), len(test)))"
      ],
      "execution_count": 0,
      "outputs": [
        {
          "output_type": "stream",
          "text": [
            "train=2000, test=200\n"
          ],
          "name": "stdout"
        }
      ]
    },
    {
      "cell_type": "code",
      "metadata": {
        "id": "tEEM8VmQBYv4",
        "colab_type": "code",
        "outputId": "03db9287-fae3-4c66-b105-792e707b87e7",
        "colab": {
          "base_uri": "https://localhost:8080/",
          "height": 282
        }
      },
      "source": [
        "from sklearn.metrics import mean_squared_error\n",
        "from math import sqrt\n",
        "  #walk forward validation\n",
        "history = [t for t in train]\n",
        "predictions = list()\n",
        "for j in range(len(test)):\n",
        "    #making prediction\n",
        "  predictions.append(history[-1])\n",
        "  #observation\n",
        "  history.append(test[j])\n",
        "#report performance\n",
        "rmse = sqrt(mean_squared_error(test,predictions))\n",
        "print('RMSE: %.3f' %rmse)\n",
        "plt.plot(test)\n",
        "plt.plot(predictions)\n",
        "#plt.plot(persistence_values,scores)\n",
        "plt.show()"
      ],
      "execution_count": 0,
      "outputs": [
        {
          "output_type": "stream",
          "text": [
            "RMSE: 6.796\n"
          ],
          "name": "stdout"
        },
        {
          "output_type": "display_data",
          "data": {
            "image/png": "[encoded data removed]",
            "text/plain": [
              "<Figure size 432x288 with 1 Axes>"
            ]
          },
          "metadata": {
            "tags": [],
            "needs_background": "light"
          }
        }
      ]
    },
    {
      "cell_type": "code",
      "metadata": {
        "id": "gFZVNzNiY7f-",
        "colab_type": "code",
        "colab": {}
      },
      "source": [
        "#data preprocessing\n",
        "from sklearn.preprocessing import MinMaxScaler\n",
        "scaler = MinMaxScaler(feature_range=(0,1))\n",
        "train_scaled = scaler.fit_transform(train)"
      ],
      "execution_count": 0,
      "outputs": []
    },
    {
      "cell_type": "code",
      "metadata": {
        "id": "9-TDpiHESqkL",
        "colab_type": "code",
        "outputId": "c200aa69-55ff-44bb-f97d-9490c81aae7c",
        "colab": {
          "base_uri": "https://localhost:8080/",
          "height": 260
        }
      },
      "source": [
        "X_train = []\n",
        "y_train = []\n",
        "for i in range(60,len(train_scaled)):\n",
        "  X_train.append(train_scaled[i-60:i,0])\n",
        "  y_train.append(train_scaled[i,0])\n",
        "  if i <= 60:\n",
        "    print(X_train)\n",
        "    print(y_train)\n",
        "    print()"
      ],
      "execution_count": 0,
      "outputs": [
        {
          "output_type": "stream",
          "text": [
            "[array([0.15505226, 0.15505226, 0.15505226, 0.13066202, 0.1358885 ,\n",
            "       0.13414634, 0.12891986, 0.15505226, 0.13763066, 0.13763066,\n",
            "       0.12891986, 0.13763066, 0.12369338, 0.12891986, 0.1533101 ,\n",
            "       0.19860627, 0.18815331, 0.14634146, 0.14634146, 0.16202091,\n",
            "       0.16550523, 0.19686411, 0.19686411, 0.17247387, 0.19860627,\n",
            "       0.18118467, 0.21254355, 0.19686411, 0.15853659, 0.18989547,\n",
            "       0.16724739, 0.18292683, 0.18118467, 0.18118467, 0.18466899,\n",
            "       0.18292683, 0.17595819, 0.17073171, 0.17247387, 0.16898955,\n",
            "       0.17073171, 0.16376307, 0.12891986, 0.16027875, 0.15505226,\n",
            "       0.14808362, 0.13240418, 0.14634146, 0.14634146, 0.19337979,\n",
            "       0.16376307, 0.15505226, 0.15156794, 0.16027875, 0.14634146,\n",
            "       0.15679443, 0.15679443, 0.16027875, 0.16376307, 0.16027875])]\n",
            "[0.16376306620209058]\n",
            "\n"
          ],
          "name": "stdout"
        }
      ]
    },
    {
      "cell_type": "code",
      "metadata": {
        "id": "xjlBKDauT63F",
        "colab_type": "code",
        "colab": {}
      },
      "source": [
        "X_train, y_train = np.array(X_train), np.array(y_train)"
      ],
      "execution_count": 0,
      "outputs": []
    },
    {
      "cell_type": "code",
      "metadata": {
        "id": "TfNzm0CiVPna",
        "colab_type": "code",
        "colab": {}
      },
      "source": [
        "#reshape the data in 3d\n",
        "X_train = np.reshape(X_train, (X_train.shape[0], X_train.shape[1], 1))"
      ],
      "execution_count": 0,
      "outputs": []
    },
    {
      "cell_type": "code",
      "metadata": {
        "id": "jFtsmXekUqY-",
        "colab_type": "code",
        "outputId": "c7ac9a40-c4b8-4a8b-c8de-f7bfb3b29759",
        "colab": {
          "base_uri": "https://localhost:8080/",
          "height": 34
        }
      },
      "source": [
        "X_train.shape\n"
      ],
      "execution_count": 0,
      "outputs": [
        {
          "output_type": "execute_result",
          "data": {
            "text/plain": [
              "(1940, 60, 1)"
            ]
          },
          "metadata": {
            "tags": []
          },
          "execution_count": 91
        }
      ]
    },
    {
      "cell_type": "code",
      "metadata": {
        "id": "m4TuATFkEibD",
        "colab_type": "code",
        "outputId": "ae4b2e36-4e5a-4809-e02b-4aca628a28ec",
        "colab": {
          "base_uri": "https://localhost:8080/",
          "height": 34
        }
      },
      "source": [
        "y_train.shape"
      ],
      "execution_count": 0,
      "outputs": [
        {
          "output_type": "execute_result",
          "data": {
            "text/plain": [
              "(1940,)"
            ]
          },
          "metadata": {
            "tags": []
          },
          "execution_count": 92
        }
      ]
    },
    {
      "cell_type": "code",
      "metadata": {
        "colab_type": "code",
        "id": "nkydOGNB7fHg",
        "colab": {}
      },
      "source": [
        "import tensorflow as tf\n",
        "import io\n",
        "import math"
      ],
      "execution_count": 0,
      "outputs": []
    },
    {
      "cell_type": "code",
      "metadata": {
        "id": "sxcvd-ChAo30",
        "colab_type": "code",
        "colab": {}
      },
      "source": [
        "from keras.models import Sequential\n",
        "from keras.layers import Dense\n",
        "from keras.layers import LSTM\n",
        "from keras.layers import Dropout\n"
      ],
      "execution_count": 0,
      "outputs": []
    },
    {
      "cell_type": "code",
      "metadata": {
        "id": "byJoQu6EzTOL",
        "colab_type": "code",
        "colab": {}
      },
      "source": [
        "from tensorflow.keras import regularizers"
      ],
      "execution_count": 0,
      "outputs": []
    },
    {
      "cell_type": "code",
      "metadata": {
        "id": "tdQNNk70Tq3N",
        "colab_type": "code",
        "colab": {}
      },
      "source": [
        "#build the lstm model\n",
        "model = Sequential()\n",
        "model.add(LSTM(50, return_sequences=True, input_shape=(X_train.shape[1],1)))\n",
        "model.add(Dense(25,activation='relu', activity_regularizer=regularizers.l2(1e-4)))\n",
        "model.add(Dropout(0.2))\n",
        "model.add(LSTM(50,return_sequences=False))\n",
        "model.add(Dense(1))"
      ],
      "execution_count": 0,
      "outputs": []
    },
    {
      "cell_type": "code",
      "metadata": {
        "id": "6OzfgYeaAo4L",
        "colab_type": "code",
        "colab": {}
      },
      "source": [
        "#compile the model\n",
        "model.compile(optimizer='adam',metrics=['accuracy'],loss = 'mean_squared_error')"
      ],
      "execution_count": 0,
      "outputs": []
    },
    {
      "cell_type": "code",
      "metadata": {
        "id": "L2KwL0ww64OW",
        "colab_type": "code",
        "colab": {}
      },
      "source": [
        "from keras.callbacks import ModelCheckpoint, EarlyStopping\n",
        "es = EarlyStopping(monitor='val_loss',patience=10, min_delta=1e-3,mode='auto')"
      ],
      "execution_count": 0,
      "outputs": []
    },
    {
      "cell_type": "code",
      "metadata": {
        "id": "XFZBl4gIyJqM",
        "colab_type": "code",
        "outputId": "ca6d6130-94f5-4d85-94f1-5d7bb87e21fe",
        "colab": {
          "base_uri": "https://localhost:8080/",
          "height": 1000
        }
      },
      "source": [
        "history= model.fit(X_train, y_train, batch_size=200, epochs=1000, verbose=1, callbacks=[es],validation_split=0.20,shuffle=False)"
      ],
      "execution_count": 0,
      "outputs": [
        {
          "output_type": "stream",
          "text": [
            "Train on 1552 samples, validate on 388 samples\n",
            "Epoch 1/1000\n",
            "1552/1552 [==============================] - 2s 1ms/step - loss: 0.1244 - accuracy: 6.4433e-04 - val_loss: 0.2514 - val_accuracy: 0.0000e+00\n",
            "Epoch 2/1000\n",
            "1552/1552 [==============================] - 2s 990us/step - loss: 0.0344 - accuracy: 6.4433e-04 - val_loss: 0.0365 - val_accuracy: 0.0026\n",
            "Epoch 3/1000\n",
            "1552/1552 [==============================] - 2s 993us/step - loss: 0.0201 - accuracy: 6.4433e-04 - val_loss: 0.0172 - val_accuracy: 0.0026\n",
            "Epoch 4/1000\n",
            "1552/1552 [==============================] - 2s 988us/step - loss: 0.0254 - accuracy: 6.4433e-04 - val_loss: 0.0413 - val_accuracy: 0.0026\n",
            "Epoch 5/1000\n",
            "1552/1552 [==============================] - 2s 980us/step - loss: 0.0112 - accuracy: 6.4433e-04 - val_loss: 0.0279 - val_accuracy: 0.0026\n",
            "Epoch 6/1000\n",
            "1552/1552 [==============================] - 2s 984us/step - loss: 0.0097 - accuracy: 6.4433e-04 - val_loss: 0.0238 - val_accuracy: 0.0026\n",
            "Epoch 7/1000\n",
            "1552/1552 [==============================] - 2s 993us/step - loss: 0.0071 - accuracy: 6.4433e-04 - val_loss: 0.0188 - val_accuracy: 0.0026\n",
            "Epoch 8/1000\n",
            "1552/1552 [==============================] - 2s 1ms/step - loss: 0.0060 - accuracy: 6.4433e-04 - val_loss: 0.0172 - val_accuracy: 0.0026\n",
            "Epoch 9/1000\n",
            "1552/1552 [==============================] - 2s 1ms/step - loss: 0.0056 - accuracy: 6.4433e-04 - val_loss: 0.0139 - val_accuracy: 0.0026\n",
            "Epoch 10/1000\n",
            "1552/1552 [==============================] - 2s 1ms/step - loss: 0.0061 - accuracy: 6.4433e-04 - val_loss: 0.0113 - val_accuracy: 0.0026\n",
            "Epoch 11/1000\n",
            "1552/1552 [==============================] - 2s 995us/step - loss: 0.0069 - accuracy: 6.4433e-04 - val_loss: 0.0143 - val_accuracy: 0.0026\n",
            "Epoch 12/1000\n",
            "1552/1552 [==============================] - 2s 1ms/step - loss: 0.0052 - accuracy: 6.4433e-04 - val_loss: 0.0103 - val_accuracy: 0.0026\n",
            "Epoch 13/1000\n",
            "1552/1552 [==============================] - 2s 976us/step - loss: 0.0107 - accuracy: 6.4433e-04 - val_loss: 0.0330 - val_accuracy: 0.0026\n",
            "Epoch 14/1000\n",
            "1552/1552 [==============================] - 2s 968us/step - loss: 0.0042 - accuracy: 6.4433e-04 - val_loss: 0.0157 - val_accuracy: 0.0026\n",
            "Epoch 15/1000\n",
            "1552/1552 [==============================] - 2s 971us/step - loss: 0.0040 - accuracy: 6.4433e-04 - val_loss: 0.0093 - val_accuracy: 0.0026\n",
            "Epoch 16/1000\n",
            "1552/1552 [==============================] - 2s 983us/step - loss: 0.0044 - accuracy: 6.4433e-04 - val_loss: 0.0116 - val_accuracy: 0.0026\n",
            "Epoch 17/1000\n",
            "1552/1552 [==============================] - 2s 990us/step - loss: 0.0057 - accuracy: 6.4433e-04 - val_loss: 0.0171 - val_accuracy: 0.0026\n",
            "Epoch 18/1000\n",
            "1552/1552 [==============================] - 2s 981us/step - loss: 0.0036 - accuracy: 6.4433e-04 - val_loss: 0.0085 - val_accuracy: 0.0026\n",
            "Epoch 19/1000\n",
            "1552/1552 [==============================] - 2s 1000us/step - loss: 0.0039 - accuracy: 6.4433e-04 - val_loss: 0.0101 - val_accuracy: 0.0026\n",
            "Epoch 20/1000\n",
            "1552/1552 [==============================] - 2s 991us/step - loss: 0.0036 - accuracy: 6.4433e-04 - val_loss: 0.0076 - val_accuracy: 0.0026\n",
            "Epoch 21/1000\n",
            "1552/1552 [==============================] - 2s 978us/step - loss: 0.0038 - accuracy: 6.4433e-04 - val_loss: 0.0079 - val_accuracy: 0.0026\n",
            "Epoch 22/1000\n",
            "1552/1552 [==============================] - 2s 971us/step - loss: 0.0040 - accuracy: 6.4433e-04 - val_loss: 0.0080 - val_accuracy: 0.0026\n",
            "Epoch 23/1000\n",
            "1552/1552 [==============================] - 1s 966us/step - loss: 0.0071 - accuracy: 6.4433e-04 - val_loss: 0.0125 - val_accuracy: 0.0026\n",
            "Epoch 24/1000\n",
            "1552/1552 [==============================] - 2s 973us/step - loss: 0.0046 - accuracy: 6.4433e-04 - val_loss: 0.0088 - val_accuracy: 0.0026\n",
            "Epoch 25/1000\n",
            "1552/1552 [==============================] - 1s 965us/step - loss: 0.0043 - accuracy: 6.4433e-04 - val_loss: 0.0124 - val_accuracy: 0.0026\n",
            "Epoch 26/1000\n",
            "1552/1552 [==============================] - 2s 972us/step - loss: 0.0030 - accuracy: 6.4433e-04 - val_loss: 0.0080 - val_accuracy: 0.0026\n",
            "Epoch 27/1000\n",
            "1552/1552 [==============================] - 2s 997us/step - loss: 0.0035 - accuracy: 6.4433e-04 - val_loss: 0.0087 - val_accuracy: 0.0026\n",
            "Epoch 28/1000\n",
            "1552/1552 [==============================] - 2s 981us/step - loss: 0.0036 - accuracy: 6.4433e-04 - val_loss: 0.0077 - val_accuracy: 0.0026\n"
          ],
          "name": "stdout"
        }
      ]
    },
    {
      "cell_type": "code",
      "metadata": {
        "id": "4eDPHhYwG86w",
        "colab_type": "code",
        "outputId": "5f6f7f1e-0ab8-46ee-dc5a-3f0528055672",
        "colab": {
          "base_uri": "https://localhost:8080/",
          "height": 295
        }
      },
      "source": [
        "\n",
        "plt.plot(history.history['loss'])\n",
        "plt.plot(history.history['val_loss'])\n",
        "plt.title('Model validation loss')\n",
        "plt.xlabel('Epoch')\n",
        "plt.ylabel('Loss')\n",
        "plt.legend(['train','validation'], loc='upper right')\n",
        "plt.show()"
      ],
      "execution_count": 0,
      "outputs": [
        {
          "output_type": "display_data",
          "data": {
            "image/png": "[encoded data removed]",
            "text/plain": [
              "<Figure size 432x288 with 1 Axes>"
            ]
          },
          "metadata": {
            "tags": [],
            "needs_background": "light"
          }
        }
      ]
    },
    {
      "cell_type": "code",
      "metadata": {
        "id": "L6Am-1wkpTjV",
        "colab_type": "code",
        "colab": {}
      },
      "source": [
        "In = dataset_scaled[len(dataset)-len(test)-60:,:]"
      ],
      "execution_count": 0,
      "outputs": []
    },
    {
      "cell_type": "code",
      "metadata": {
        "id": "ihYx1oM0dNXu",
        "colab_type": "code",
        "colab": {}
      },
      "source": [
        "\n",
        "#dividing into x_test and y_test\n",
        "X_test = []\n",
        "y_test = test\n",
        "for i in range(60,len(In)):\n",
        "  X_test.append(In[i-60:i,0])\n"
      ],
      "execution_count": 0,
      "outputs": []
    },
    {
      "cell_type": "code",
      "metadata": {
        "id": "Qe1p_5bwRqKk",
        "colab_type": "code",
        "outputId": "1750287e-ce9c-4489-856d-d9ceba1a4b1c",
        "colab": {
          "base_uri": "https://localhost:8080/",
          "height": 34
        }
      },
      "source": [
        "y_test.shape"
      ],
      "execution_count": 0,
      "outputs": [
        {
          "output_type": "execute_result",
          "data": {
            "text/plain": [
              "(200, 1)"
            ]
          },
          "metadata": {
            "tags": []
          },
          "execution_count": 103
        }
      ]
    },
    {
      "cell_type": "code",
      "metadata": {
        "id": "zCbxHHf8fJ1v",
        "colab_type": "code",
        "colab": {}
      },
      "source": [
        "#Convert the data to numpy array\n",
        "X_test = np.array(X_test)"
      ],
      "execution_count": 0,
      "outputs": []
    },
    {
      "cell_type": "code",
      "metadata": {
        "id": "jqTH4ZPAfZy4",
        "colab_type": "code",
        "colab": {}
      },
      "source": [
        "#reshape the data\n",
        "X_test =np.reshape(X_test,(X_test.shape[0] ,X_test.shape[1],1))"
      ],
      "execution_count": 0,
      "outputs": []
    },
    {
      "cell_type": "code",
      "metadata": {
        "id": "hTeMJYMoQKBV",
        "colab_type": "code",
        "outputId": "4751fa46-5016-49e1-a6e3-0d41dea43145",
        "colab": {
          "base_uri": "https://localhost:8080/",
          "height": 34
        }
      },
      "source": [
        "X_test.shape"
      ],
      "execution_count": 0,
      "outputs": [
        {
          "output_type": "execute_result",
          "data": {
            "text/plain": [
              "(200, 60, 1)"
            ]
          },
          "metadata": {
            "tags": []
          },
          "execution_count": 106
        }
      ]
    },
    {
      "cell_type": "code",
      "metadata": {
        "id": "R5J7XBlggDmM",
        "colab_type": "code",
        "colab": {}
      },
      "source": [
        "#Getting the models predicted values\n",
        "predictions = model.predict(X_test)\n",
        "predictions = scaler.inverse_transform(predictions)"
      ],
      "execution_count": 0,
      "outputs": []
    },
    {
      "cell_type": "code",
      "metadata": {
        "id": "4JtLRqr1jZJf",
        "colab_type": "code",
        "outputId": "98babef5-c7bb-40f9-e630-4f7c6039579c",
        "colab": {
          "base_uri": "https://localhost:8080/",
          "height": 34
        }
      },
      "source": [
        "rmse = np.sqrt(np.mean(((predictions-y_test)**2)))\n",
        "rmse"
      ],
      "execution_count": 0,
      "outputs": [
        {
          "output_type": "execute_result",
          "data": {
            "text/plain": [
              "18.10030919569437"
            ]
          },
          "metadata": {
            "tags": []
          },
          "execution_count": 108
        }
      ]
    },
    {
      "cell_type": "code",
      "metadata": {
        "id": "uWi9Rt2eAo41",
        "colab_type": "code",
        "outputId": "89476166-d4d4-4bbb-a61b-c0bb5209e6b4",
        "colab": {
          "base_uri": "https://localhost:8080/",
          "height": 479
        }
      },
      "source": [
        "#visualize the data\n",
        "train, test = data_to_use[0:-200],data_to_use[-200:]\n",
        "valid = data_to_use[len(train):]\n",
        "valid['Predictions'] = predictions\n",
        "plt.figure(figsize=(16,8))\n",
        "plt.title('Model')\n",
        "plt.xlabel('Date', fontsize=18)\n",
        "plt.ylabel('Closing price', fontsize=18)\n",
        "plt.plot(train['Closing Price'])\n",
        "plt.plot(valid[['Closing Price', 'Predictions']])\n",
        "plt.legend(['Train', 'Val', 'Predictions'], loc='lower right')\n",
        "plt.show()"
      ],
      "execution_count": 0,
      "outputs": [
        {
          "output_type": "display_data",
          "data": {
            "image/png": "[encoded data removed]",
            "text/plain": [
              "<Figure size 1152x576 with 1 Axes>"
            ]
          },
          "metadata": {
            "tags": [],
            "needs_background": "light"
          }
        }
      ]
    },
    {
      "cell_type": "code",
      "metadata": {
        "id": "ePTrDhkFHU19",
        "colab_type": "code",
        "outputId": "63b97f89-6408-4851-df62-a4b9c2e6941a",
        "colab": {
          "base_uri": "https://localhost:8080/",
          "height": 238
        }
      },
      "source": [
        "valid.tail()"
      ],
      "execution_count": 0,
      "outputs": [
        {
          "output_type": "execute_result",
          "data": {
            "text/html": [
              "<div>\n",
              "<style scoped>\n",
              "    .dataframe tbody tr th:only-of-type {\n",
              "        vertical-align: middle;\n",
              "    }\n",
              "\n",
              "    .dataframe tbody tr th {\n",
              "        vertical-align: top;\n",
              "    }\n",
              "\n",
              "    .dataframe thead th {\n",
              "        text-align: right;\n",
              "    }\n",
              "</style>\n",
              "<table border=\"1\" class=\"dataframe\">\n",
              "  <thead>\n",
              "    <tr style=\"text-align: right;\">\n",
              "      <th></th>\n",
              "      <th>Closing Price</th>\n",
              "      <th>Predictions</th>\n",
              "    </tr>\n",
              "    <tr>\n",
              "      <th>Date</th>\n",
              "      <th></th>\n",
              "      <th></th>\n",
              "    </tr>\n",
              "  </thead>\n",
              "  <tbody>\n",
              "    <tr>\n",
              "      <th>2019-12-26</th>\n",
              "      <td>657.0</td>\n",
              "      <td>642.214966</td>\n",
              "    </tr>\n",
              "    <tr>\n",
              "      <th>2019-12-29</th>\n",
              "      <td>659.0</td>\n",
              "      <td>642.907898</td>\n",
              "    </tr>\n",
              "    <tr>\n",
              "      <th>2019-12-30</th>\n",
              "      <td>662.0</td>\n",
              "      <td>643.628601</td>\n",
              "    </tr>\n",
              "    <tr>\n",
              "      <th>2019-12-31</th>\n",
              "      <td>623.0</td>\n",
              "      <td>644.390442</td>\n",
              "    </tr>\n",
              "    <tr>\n",
              "      <th>2020-01-01</th>\n",
              "      <td>619.0</td>\n",
              "      <td>644.933350</td>\n",
              "    </tr>\n",
              "  </tbody>\n",
              "</table>\n",
              "</div>"
            ],
            "text/plain": [
              "            Closing Price  Predictions\n",
              "Date                                  \n",
              "2019-12-26          657.0   642.214966\n",
              "2019-12-29          659.0   642.907898\n",
              "2019-12-30          662.0   643.628601\n",
              "2019-12-31          623.0   644.390442\n",
              "2020-01-01          619.0   644.933350"
            ]
          },
          "metadata": {
            "tags": []
          },
          "execution_count": 110
        }
      ]
    },
    {
      "cell_type": "code",
      "metadata": {
        "id": "XjZ36ErlAo4o",
        "colab_type": "code",
        "colab": {}
      },
      "source": [
        "#Get the models predicted price values \n",
        "predictions = model.predict(X_test)\n",
        "predictions = scaler.inverse_transform(predictions)"
      ],
      "execution_count": 0,
      "outputs": []
    },
    {
      "cell_type": "code",
      "metadata": {
        "id": "-j33ZMtuAo5D",
        "colab_type": "code",
        "outputId": "15e70bcc-9bc6-4ede-b5f0-60a9b29d3c11",
        "colab": {
          "base_uri": "https://localhost:8080/",
          "height": 34
        }
      },
      "source": [
        "#get the quote\n",
        "ntc = pd.read_csv('ntcprice.csv')\n",
        "#creating a new dataframe\n",
        "new_ntc = ntc.filter(['Closing Price'])\n",
        "#get the last 120 days data and converting dataframe to an array\n",
        "last_60_days = new_ntc[-60:].values\n",
        "#scaling the data to be values between 0 and 1\n",
        "last_60_days_scaled = scaler.fit_transform(last_60_days)\n",
        "#creating an empty list\n",
        "X_test = []\n",
        "#append the values\n",
        "X_test.append(last_60_days_scaled)\n",
        "#converting it into numpy array\n",
        "X_test = np.array(X_test)\n",
        "#reshape the data\n",
        "X_test = np.reshape(X_test, (X_test.shape[0], X_test.shape[1], 1))\n",
        "#Get the predicted scaled price\n",
        "pred_price = model.predict(X_test)\n",
        "#undo the scaling \n",
        "pred_price = scaler.inverse_transform(pred_price)\n",
        "print(pred_price)"
      ],
      "execution_count": 0,
      "outputs": [
        {
          "output_type": "stream",
          "text": [
            "[[453.47495]]\n"
          ],
          "name": "stdout"
        }
      ]
    }
  ]
}